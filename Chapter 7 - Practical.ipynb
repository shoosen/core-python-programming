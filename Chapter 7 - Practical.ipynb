{
 "cells": [
  {
   "cell_type": "markdown",
   "metadata": {},
   "source": [
    "# Core Python Programming\n",
    "## Chapter 7  \n",
    "\n",
    "You should read the following chapter in the “Core Python Programming” manual:\n",
    "* **Chapter 7: Mapping and Set Types**"
   ]
  },
  {
   "cell_type": "markdown",
   "metadata": {},
   "source": [
    "#### 1. Given the following 2 streams of data, create a dictionary that joins the keys to the values.\n",
    "\n",
    "`['name', 'surname', 'username', 'password', 'department', 'role']`\n",
    "\n",
    "`['John', 'Doe', 'jdoe', '1L0v3Pyth0n', 'Engineering', 'DevOps Engineer']`"
   ]
  },
  {
   "cell_type": "code",
   "execution_count": null,
   "metadata": {},
   "outputs": [],
   "source": [
    "# Insert your code here..."
   ]
  },
  {
   "cell_type": "markdown",
   "metadata": {},
   "source": [
    "#### 2. Loading proposals data into dictionaries.\n",
    "\n",
    "Run the code block below to load the dataset in the `proposals.csv` file into your notebook.\n",
    "\n",
    "The code uses the Python `csv` built-in library to import the dataset into a list of dictionaries."
   ]
  },
  {
   "cell_type": "code",
   "execution_count": null,
   "metadata": {},
   "outputs": [],
   "source": [
    "# Insert your code here..."
   ]
  },
  {
   "cell_type": "code",
   "execution_count": 1,
   "metadata": {},
   "outputs": [],
   "source": [
    "# The code below will import the proposals.csv into \n",
    "# your Jupyter Notebook environment.\n",
    "\n",
    "import os\n",
    "import csv\n",
    "\n",
    "# Find the current path where this script is running\n",
    "cwd = os.path.abspath('')\n",
    "\n",
    "proposals_list = []\n",
    "proposals_filepath = os.path.join(cwd, 'files', 'proposals.csv')\n",
    "with open(proposals_filepath) as proposals_file:\n",
    "    proposals_csv = csv.reader(proposals_file, delimiter=',')\n",
    "    for row in proposals_csv:\n",
    "        proposal = {}\n",
    "        proposal['id'] = row[0]\n",
    "        proposal['title'] = row[1]\n",
    "        proposal['obs_band'] = row[2]\n",
    "        proposal['obs_hrs'] = row[3]\n",
    "        proposal['rank'] = row[4]\n",
    "        proposal['state'] = row[5]\n",
    "        proposals_list.append(proposal)\n",
    "del proposals_list[0] # Remove column headers"
   ]
  },
  {
   "cell_type": "markdown",
   "metadata": {},
   "source": [
    "#### 2.1 Inspect the structure to the imported data. Hint: It is a list of dictionaries.\n",
    "\n",
    "Write some code to iterate through the data, one `proposal` at a time.\n",
    "\n",
    "Manually print the column headings in CAPs.\n",
    "\n",
    "Display all the proposals in your dataset. "
   ]
  },
  {
   "cell_type": "code",
   "execution_count": null,
   "metadata": {},
   "outputs": [],
   "source": [
    "# Insert your code here..."
   ]
  },
  {
   "cell_type": "markdown",
   "metadata": {},
   "source": [
    "#### 2.2 Sort the dataset by the rank column in ascending order and display all the data as above."
   ]
  },
  {
   "cell_type": "code",
   "execution_count": null,
   "metadata": {},
   "outputs": [],
   "source": [
    "# Insert your code here..."
   ]
  },
  {
   "cell_type": "markdown",
   "metadata": {},
   "source": [
    "#### 2.3 Calculate the total sum of observation hours requested by all proposals in your dataset."
   ]
  },
  {
   "cell_type": "code",
   "execution_count": null,
   "metadata": {},
   "outputs": [],
   "source": [
    "# Insert your code here..."
   ]
  },
  {
   "cell_type": "markdown",
   "metadata": {},
   "source": [
    "#### 2.4 Calculate the average amount of observation hours requested by the proposals in your dataset."
   ]
  },
  {
   "cell_type": "code",
   "execution_count": null,
   "metadata": {},
   "outputs": [],
   "source": [
    "# Insert your code here..."
   ]
  },
  {
   "cell_type": "markdown",
   "metadata": {},
   "source": [
    "#### 2.5 Count to total number of `L-band` and `UHF` observations in the dataset."
   ]
  },
  {
   "cell_type": "code",
   "execution_count": null,
   "metadata": {},
   "outputs": [],
   "source": [
    "# Insert your code here..."
   ]
  },
  {
   "cell_type": "markdown",
   "metadata": {},
   "source": [
    "#### 3. Working with Sets\n",
    "\n",
    "Generate 2 sets with each set having 5 random integers between 0 and 20.\n",
    "\n",
    "(i) Display all members of each set.\n",
    "\n",
    "(ii) Display the union of the two sets.\n",
    "\n",
    "(iii) Display the difference of each set to the other.\n",
    "\n",
    "(iv) Display the symetric difference of both sets.\n",
    "\n",
    "(v) Check if either set is a subset or super set of the other set."
   ]
  },
  {
   "cell_type": "code",
   "execution_count": null,
   "metadata": {},
   "outputs": [],
   "source": [
    "# Insert your code here..."
   ]
  }
 ],
 "metadata": {
  "kernelspec": {
   "display_name": "Python 2",
   "language": "python",
   "name": "python2"
  },
  "language_info": {
   "codemirror_mode": {
    "name": "ipython",
    "version": 2
   },
   "file_extension": ".py",
   "mimetype": "text/x-python",
   "name": "python",
   "nbconvert_exporter": "python",
   "pygments_lexer": "ipython2",
   "version": "2.7.17"
  }
 },
 "nbformat": 4,
 "nbformat_minor": 2
}
