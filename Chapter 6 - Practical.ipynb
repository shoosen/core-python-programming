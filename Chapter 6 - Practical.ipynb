{
 "cells": [
  {
   "cell_type": "markdown",
   "metadata": {},
   "source": [
    "# Core Python Programming\n",
    "## Chapter 6  \n",
    "\n",
    "You should read the following chapter in the “Core Python Programming” manual:\n",
    "* **Chapter 6: Sequences**"
   ]
  },
  {
   "cell_type": "markdown",
   "metadata": {},
   "source": [
    "#### 1. Given the following string, sort the string alphabetically in ascending order.\n",
    "\n",
    "NB: Remove all duplicate characters.\n",
    "\n",
    "> the quick brown fox jumps over the lazy dog\n"
   ]
  },
  {
   "cell_type": "code",
   "execution_count": 1,
   "metadata": {},
   "outputs": [],
   "source": [
    "# Type your code block here"
   ]
  },
  {
   "cell_type": "markdown",
   "metadata": {},
   "source": [
    "#### 2. Prompt the user for a word and determine if it is a palindrome. \n",
    "\n",
    "NB: Remember to remove all whitespace from the input before processing.\n",
    "\n",
    "##### Output:\n",
    "`'level' is a palendrome.`\n",
    "\n",
    "or\n",
    "\n",
    "`'python' is not a palendrome.`"
   ]
  },
  {
   "cell_type": "code",
   "execution_count": 2,
   "metadata": {},
   "outputs": [],
   "source": [
    "# Type your code block here"
   ]
  },
  {
   "cell_type": "markdown",
   "metadata": {},
   "source": [
    "#### 3. Accept the following input from the user and display the output as illustrated below.\n",
    "\n",
    "NB: The output should be printed in a single python statement.\n",
    "\n",
    "###### Input\n",
    " * Name\n",
    " * DOB (DD/MM/YYYY)\n",
    "\n",
    "##### Output\n",
    "`Thank you ???. \n",
    "You are ??? year's old.\n",
    "There are ??? days left before your next birthday.`"
   ]
  },
  {
   "cell_type": "code",
   "execution_count": 3,
   "metadata": {},
   "outputs": [],
   "source": [
    "# Type your code block here"
   ]
  },
  {
   "cell_type": "markdown",
   "metadata": {},
   "source": [
    "#### 4. Load the proposals data.\n",
    "\n",
    "Run the code block below to load the dataset in the `proposals.csv` file into your notebook.\n",
    "\n",
    "The code uses the Python `csv` built-in library to import the dataset."
   ]
  },
  {
   "cell_type": "code",
   "execution_count": 4,
   "metadata": {},
   "outputs": [],
   "source": [
    "# The code below will import the proposals.csv into \n",
    "# your Jupyter Notebook environment.\n",
    "\n",
    "import os\n",
    "import csv\n",
    "\n",
    "cwd = os.path.abspath('')\n",
    "\n",
    "proposals_list = []\n",
    "proposals_filepath = os.path.join(cwd, 'files', 'proposals.csv')\n",
    "with open(proposals_filepath) as proposals_file:\n",
    "    proposals_csv = csv.reader(proposals_file, delimiter=',')\n",
    "    for row in proposals_csv:\n",
    "        proposals_list.append(row)"
   ]
  },
  {
   "cell_type": "markdown",
   "metadata": {},
   "source": [
    "#### 4.1 Inspect the code above to figure out how the `csv` library was used to import the dataset.\n",
    "Place comments in the block above to explain your understanding."
   ]
  },
  {
   "cell_type": "markdown",
   "metadata": {},
   "source": [
    "#### 4.2 Print the first row of the dataset to reveal the column headers."
   ]
  },
  {
   "cell_type": "code",
   "execution_count": 5,
   "metadata": {},
   "outputs": [],
   "source": [
    "# Type your code block here"
   ]
  },
  {
   "cell_type": "markdown",
   "metadata": {},
   "source": [
    "#### 4.3 Inspect the structure to the imported data. Hint: It is a list of lists.\n",
    "\n",
    "Write some code to iterate through the data, one `row` at a time.\n",
    "\n",
    "Display all the rows in your dataset. Include the column headings in CAPs. Format the printout so that it is presentable."
   ]
  },
  {
   "cell_type": "code",
   "execution_count": 6,
   "metadata": {},
   "outputs": [],
   "source": [
    "# Type your code block here"
   ]
  },
  {
   "cell_type": "markdown",
   "metadata": {},
   "source": [
    "#### 4.4 Sort the dataset by the rank column in ascending order and display all the data as above."
   ]
  },
  {
   "cell_type": "code",
   "execution_count": 7,
   "metadata": {},
   "outputs": [],
   "source": [
    "# Type your code block here"
   ]
  },
  {
   "cell_type": "markdown",
   "metadata": {},
   "source": [
    "#### 4.5 Calculate the total sum of observation hours requested by all proposals in your dataset."
   ]
  },
  {
   "cell_type": "code",
   "execution_count": 8,
   "metadata": {},
   "outputs": [],
   "source": [
    "# Type your code block here"
   ]
  },
  {
   "cell_type": "markdown",
   "metadata": {},
   "source": [
    "#### 4.6 Calculate the average amount of observation hours requested by the proposals in your dataset."
   ]
  },
  {
   "cell_type": "code",
   "execution_count": 9,
   "metadata": {},
   "outputs": [],
   "source": [
    "# Type your code block here"
   ]
  },
  {
   "cell_type": "markdown",
   "metadata": {},
   "source": [
    "#### 4.7 Count to total number of `L-band` and `UHF` observations in the dataset."
   ]
  },
  {
   "cell_type": "code",
   "execution_count": 10,
   "metadata": {},
   "outputs": [],
   "source": [
    "# Type your code block here"
   ]
  },
  {
   "cell_type": "markdown",
   "metadata": {},
   "source": [
    "#### BONUS: Create a user interface.\n",
    "Prompt the user for a proposal ID. If the `id` exists in the dataset, print the proposal details.\n",
    "\n",
    "If the `id` does not exist, let the user know. "
   ]
  },
  {
   "cell_type": "code",
   "execution_count": 11,
   "metadata": {},
   "outputs": [],
   "source": [
    "# Type your code block here"
   ]
  }
 ],
 "metadata": {
  "kernelspec": {
   "display_name": "Python 2",
   "language": "python",
   "name": "python2"
  },
  "language_info": {
   "codemirror_mode": {
    "name": "ipython",
    "version": 2
   },
   "file_extension": ".py",
   "mimetype": "text/x-python",
   "name": "python",
   "nbconvert_exporter": "python",
   "pygments_lexer": "ipython2",
   "version": "2.7.17"
  }
 },
 "nbformat": 4,
 "nbformat_minor": 2
}
