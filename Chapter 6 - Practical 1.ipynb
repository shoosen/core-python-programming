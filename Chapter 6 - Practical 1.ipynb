{
 "cells": [
  {
   "cell_type": "markdown",
   "metadata": {},
   "source": [
    "# Core Python Programming\n",
    "## Chapter 6  \n",
    "\n",
    "You should read the following chapter in the “Core Python Programming” manual:\n",
    "* **Chapter 6: Sequences**"
   ]
  },
  {
   "cell_type": "markdown",
   "metadata": {},
   "source": [
    "#### 1. Given the following string, sort the string alphabetically in ascending order.\n",
    "\n",
    "NB: Remove all duplicate characters.\n",
    "\n",
    "> the quick brown fox jumps over the lazy dog\n"
   ]
  },
  {
   "cell_type": "code",
   "execution_count": 1,
   "metadata": {},
   "outputs": [],
   "source": [
    "# Type your code block here"
   ]
  },
  {
   "cell_type": "markdown",
   "metadata": {},
   "source": [
    "#### 2. Prompt the user for a word and determine if it is a palindrome. \n",
    "\n",
    "NB: Remember to remove all whitespace from the input before processing.\n",
    "\n",
    "##### Output:\n",
    "`'level' is a palendrome.`\n",
    "\n",
    "or\n",
    "\n",
    "`'python' is not a palendrome.`"
   ]
  },
  {
   "cell_type": "code",
   "execution_count": 2,
   "metadata": {},
   "outputs": [],
   "source": [
    "# Type your code block here"
   ]
  },
  {
   "cell_type": "markdown",
   "metadata": {},
   "source": [
    "#### 3. Accept the following input from the user and display the output as illustrated below.\n",
    "\n",
    "NB: The output should be printed in a single python statement.\n",
    "\n",
    "###### Input\n",
    " * Name\n",
    " * DOB (DD/MM/YYYY)\n",
    "\n",
    "##### Output\n",
    "`Thank you ???. \n",
    "You are ??? year's old.\n",
    "There are ??? days left before your next birthday.`"
   ]
  },
  {
   "cell_type": "code",
   "execution_count": 3,
   "metadata": {},
   "outputs": [],
   "source": [
    "# Type your code block here"
   ]
  }
 ],
 "metadata": {
  "kernelspec": {
   "display_name": "Python 2",
   "language": "python",
   "name": "python2"
  },
  "language_info": {
   "codemirror_mode": {
    "name": "ipython",
    "version": 2
   },
   "file_extension": ".py",
   "mimetype": "text/x-python",
   "name": "python",
   "nbconvert_exporter": "python",
   "pygments_lexer": "ipython2",
   "version": "2.7.17"
  }
 },
 "nbformat": 4,
 "nbformat_minor": 2
}
