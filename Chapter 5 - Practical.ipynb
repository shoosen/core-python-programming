{
 "cells": [
  {
   "cell_type": "markdown",
   "metadata": {},
   "source": [
    "# Core Python Programming\n",
    "## Chapter 5  \n",
    "\n",
    "You should read the following chapter in the “Core Python Programming” manual:\n",
    "* **Chapter 5: Numbers**"
   ]
  },
  {
   "cell_type": "markdown",
   "metadata": {},
   "source": [
    "#### 1. Display the real and imaginary parts of the following complex number:\n",
    "\n",
    "`c = 27.3+3.4j`"
   ]
  },
  {
   "cell_type": "code",
   "execution_count": 1,
   "metadata": {},
   "outputs": [],
   "source": [
    "# Type your code block here"
   ]
  },
  {
   "cell_type": "markdown",
   "metadata": {},
   "source": [
    "#### 2. Extract the message:\n",
    "\n",
    "`secret = [0x50,0x79,0x74,0x68,0x6f,0x6e,0x20,0x69,0x73,0x20,0x61,0x77,0x65,0x73,0x6f,0x6d,0x65]`\n",
    "\n",
    "Hint: See section 5.6.3 in the Core Python Programming manual."
   ]
  },
  {
   "cell_type": "code",
   "execution_count": 2,
   "metadata": {},
   "outputs": [],
   "source": [
    "# Type your code block here"
   ]
  },
  {
   "cell_type": "markdown",
   "metadata": {},
   "source": [
    "#### 3. Leap Years\n",
    "\n",
    "Display all leap years for the 21 century.\n",
    "\n",
    "Hint: A leap year is one that is divisible by four, but not by one hundred, unless it is also divisible by four hundred.\n",
    "\n",
    "Use the `range` BIF to generate the set of initial numbers. E.g. `range(2000,2100)`"
   ]
  },
  {
   "cell_type": "code",
   "execution_count": 3,
   "metadata": {},
   "outputs": [],
   "source": [
    "# Type your code block here"
   ]
  },
  {
   "cell_type": "markdown",
   "metadata": {},
   "source": [
    "#### 4. Coin Machine\n",
    "\n",
    "Given the amount of change a person should receive when making a purchase, calculate the amount of coins that make up the amount using South African currency. \n",
    "\n",
    "I.e. How many R5, R2, R1, 50c, 20c, 10c, 5c, 2c and 1c will it take to make up the amount?\n",
    "\n",
    "Assume that the change amount is less than R10.00.\n",
    "\n",
    "Hint: Consider using the `divmod` BIF."
   ]
  },
  {
   "cell_type": "code",
   "execution_count": 4,
   "metadata": {},
   "outputs": [],
   "source": [
    "# Type your code block here"
   ]
  },
  {
   "cell_type": "markdown",
   "metadata": {},
   "source": [
    "#### 5. Statistics\n",
    "\n",
    "Generate a list of 10 random numbers between 0 and 10.\n",
    "\n",
    "Display all of the numbers.\n",
    "\n",
    "Display the max.\n",
    "\n",
    "Display the min.\n",
    "\n",
    "Calculate the sum.\n",
    "\n",
    "Calculate the mean.\n",
    "\n",
    "BONUS!!! Calculate the standard deviation. Hint: Take a look at the `math` and `numpy` libraries."
   ]
  },
  {
   "cell_type": "code",
   "execution_count": 5,
   "metadata": {},
   "outputs": [],
   "source": [
    "# Type your code block here"
   ]
  }
 ],
 "metadata": {
  "kernelspec": {
   "display_name": "Python 2",
   "language": "python",
   "name": "python2"
  },
  "language_info": {
   "codemirror_mode": {
    "name": "ipython",
    "version": 2
   },
   "file_extension": ".py",
   "mimetype": "text/x-python",
   "name": "python",
   "nbconvert_exporter": "python",
   "pygments_lexer": "ipython2",
   "version": "2.7.17"
  }
 },
 "nbformat": 4,
 "nbformat_minor": 2
}
