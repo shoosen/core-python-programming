{
 "cells": [
  {
   "cell_type": "markdown",
   "metadata": {},
   "source": [
    "# Core Python Programming\n",
    "## Chapter 8  \n",
    "\n",
    "You should read the following chapter in the “Core Python Programming” manual:\n",
    "* **Chapter 8: Conditionals and Loops**"
   ]
  },
  {
   "cell_type": "markdown",
   "metadata": {},
   "source": [
    "##### 1. Write a script that prompts the user for 5 integer values between 1 and 20, entered one value at a time. \n",
    "The script should validate each value as it is entered.\n",
    "\n",
    "Once all the values have been entered...\n",
    " * Display all of the numbers entered.\n",
    " * Display the maximum number.\n",
    " * Display the minium number.\n",
    " * Display the sum of the numbers.\n",
    " * Display the average of the numbers.\n",
    "\n",
    "Bonus: Ensure that all the numbers are unique.\n"
   ]
  },
  {
   "cell_type": "code",
   "execution_count": null,
   "metadata": {},
   "outputs": [],
   "source": [
    "# Insert your code here..."
   ]
  },
  {
   "cell_type": "markdown",
   "metadata": {},
   "source": [
    "##### 2. Create a script that prompts the user for a integer value and checks whether that value is a prime number or not.\n",
    "\n",
    "Prompt the user until valid input is provided."
   ]
  },
  {
   "cell_type": "code",
   "execution_count": null,
   "metadata": {},
   "outputs": [],
   "source": [
    "# Insert your code here..."
   ]
  },
  {
   "cell_type": "markdown",
   "metadata": {},
   "source": [
    "##### 3. Write a script that prompts the user for an integer value and returns a list of all its factors, including 1 and itself.\n",
    "\n",
    "Prompt the user until valid input is provided."
   ]
  },
  {
   "cell_type": "code",
   "execution_count": 1,
   "metadata": {},
   "outputs": [],
   "source": [
    "# Insert your code here..."
   ]
  }
 ],
 "metadata": {
  "kernelspec": {
   "display_name": "Python 2",
   "language": "python",
   "name": "python2"
  },
  "language_info": {
   "codemirror_mode": {
    "name": "ipython",
    "version": 2
   },
   "file_extension": ".py",
   "mimetype": "text/x-python",
   "name": "python",
   "nbconvert_exporter": "python",
   "pygments_lexer": "ipython2",
   "version": "2.7.17"
  }
 },
 "nbformat": 4,
 "nbformat_minor": 2
}
