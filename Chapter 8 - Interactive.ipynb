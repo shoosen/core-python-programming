{
 "cells": [
  {
   "cell_type": "markdown",
   "metadata": {},
   "source": [
    "# Core Python Programming\n",
    "## Chapter 8  \n",
    "\n",
    "You should read the following chapter in the “Core Python Programming” manual:\n",
    "* **Chapter 8: Conditionals and Loops**"
   ]
  },
  {
   "cell_type": "markdown",
   "metadata": {},
   "source": [
    "## Conditionals"
   ]
  },
  {
   "cell_type": "markdown",
   "metadata": {},
   "source": [
    "### if Statement"
   ]
  },
  {
   "cell_type": "code",
   "execution_count": null,
   "metadata": {},
   "outputs": [],
   "source": [
    "if (<condition> and <condition> or <condition>):\n",
    "    statement1\n",
    "    statement2\n",
    "    ...\n",
    "#some other python statements"
   ]
  },
  {
   "cell_type": "code",
   "execution_count": null,
   "metadata": {},
   "outputs": [],
   "source": [
    "age = 18\n",
    "if age >= 18:\n",
    "    print(\"You may vote.\")\n",
    "print(\"The End.\")"
   ]
  },
  {
   "cell_type": "code",
   "execution_count": null,
   "metadata": {},
   "outputs": [],
   "source": [
    "age = 18\n",
    "registered = True\n",
    "imprisoned = False\n",
    "if ((not imprisoned) and age >= 18 and registered):\n",
    "    print(\"You may vote.\")\n",
    "print(\"The End.\")"
   ]
  },
  {
   "cell_type": "code",
   "execution_count": null,
   "metadata": {},
   "outputs": [],
   "source": [
    "age = 18\n",
    "registered = True\n",
    "imprisoned = False\n",
    "if not imprisoned and age >= 18 and registered: print(\"You may vote.\") # single line if statement\n",
    "print(\"The End.\")"
   ]
  },
  {
   "cell_type": "markdown",
   "metadata": {},
   "source": [
    "### if...else Statement"
   ]
  },
  {
   "cell_type": "code",
   "execution_count": null,
   "metadata": {},
   "outputs": [],
   "source": [
    "age = 18\n",
    "registered = True\n",
    "imprisoned = True\n",
    "if not imprisoned and age >= 18 and registered: \n",
    "    print(\"You may vote.\")\n",
    "else:\n",
    "    print('You may not vote.')\n",
    "print(\"The End.\")"
   ]
  },
  {
   "cell_type": "markdown",
   "metadata": {},
   "source": [
    "### if...elif...else Statement"
   ]
  },
  {
   "cell_type": "code",
   "execution_count": null,
   "metadata": {},
   "outputs": [],
   "source": [
    "age = 18\n",
    "registered = True\n",
    "imprisoned = True\n",
    "if age <18:\n",
    "    print('You are too young to vote.')\n",
    "elif not registered:\n",
    "    print('You have to register to vote.')\n",
    "elif imprisoned:\n",
    "    print('You are not allowed to vote if you are imprisoned.')\n",
    "else:\n",
    "    print('You may vote.')\n",
    "print(\"The End.\")"
   ]
  },
  {
   "cell_type": "markdown",
   "metadata": {},
   "source": [
    "### Tenary Operator (Conditional Expression)"
   ]
  },
  {
   "cell_type": "code",
   "execution_count": null,
   "metadata": {},
   "outputs": [],
   "source": [
    "age = 12\n",
    "if age >= 18:\n",
    "    result = \"You may vote.\"\n",
    "else:\n",
    "    result = \"You may not vote.\"\n",
    "print(result)\n"
   ]
  },
  {
   "cell_type": "code",
   "execution_count": null,
   "metadata": {},
   "outputs": [],
   "source": [
    "age = 20\n",
    "result = \"You may vote.\" if age >= 18 else \"You may not vote.\"\n",
    "print(result)"
   ]
  },
  {
   "cell_type": "markdown",
   "metadata": {},
   "source": [
    "## While Loops"
   ]
  },
  {
   "cell_type": "code",
   "execution_count": null,
   "metadata": {},
   "outputs": [],
   "source": [
    "# This loop may never run\n",
    "i = 0\n",
    "while i < 10:\n",
    "    print(i)\n",
    "    i += 1"
   ]
  },
  {
   "cell_type": "code",
   "execution_count": null,
   "metadata": {},
   "outputs": [],
   "source": [
    "# This loop will run at least once\n",
    "j = 22\n",
    "while True:\n",
    "    print(j)\n",
    "    j += 1\n",
    "    if j >= 10:\n",
    "        break   "
   ]
  },
  {
   "cell_type": "code",
   "execution_count": null,
   "metadata": {},
   "outputs": [],
   "source": [
    "k = int(raw_input(\"Enter a number: \"))\n",
    "while True:\n",
    "    print(k)\n",
    "    k += 1\n",
    "    if k >= 10:\n",
    "        break"
   ]
  },
  {
   "cell_type": "code",
   "execution_count": null,
   "metadata": {},
   "outputs": [],
   "source": [
    "k = int(raw_input(\"Enter a number: \"))\n",
    "while k < 10:\n",
    "    print(k)\n",
    "    k += 1\n",
    "    if k > 10:\n",
    "        break\n",
    "else:\n",
    "    print(\"Loop Completed\")"
   ]
  },
  {
   "cell_type": "markdown",
   "metadata": {},
   "source": [
    "## For Loops"
   ]
  },
  {
   "cell_type": "code",
   "execution_count": null,
   "metadata": {},
   "outputs": [],
   "source": [
    "for s in \"Suleiman\":\n",
    "    print(s.upper())"
   ]
  },
  {
   "cell_type": "code",
   "execution_count": null,
   "metadata": {},
   "outputs": [],
   "source": [
    "for e in [1,2,3,4,5]:\n",
    "    print e+2\n"
   ]
  },
  {
   "cell_type": "code",
   "execution_count": null,
   "metadata": {},
   "outputs": [],
   "source": [
    "for k in {'a':'w','b':'x','c':'y','d':'z'}:\n",
    "    print(k)"
   ]
  },
  {
   "cell_type": "code",
   "execution_count": null,
   "metadata": {},
   "outputs": [],
   "source": [
    "for v in {'a':'w','b':'x','c':'y','d':'z'}.values():\n",
    "    print(v)"
   ]
  },
  {
   "cell_type": "code",
   "execution_count": null,
   "metadata": {},
   "outputs": [],
   "source": [
    "alpha = ['a','b','c','d','e','f','g','h','i','j','k','l','m','n','o','p','q','r','s','t','u','v','w','x','y','z']\n",
    "for i,a in enumerate(alpha):\n",
    "    print(i+2,a)"
   ]
  },
  {
   "cell_type": "code",
   "execution_count": null,
   "metadata": {},
   "outputs": [],
   "source": [
    "range(10)"
   ]
  },
  {
   "cell_type": "code",
   "execution_count": null,
   "metadata": {},
   "outputs": [],
   "source": [
    "xrange(10) # python2"
   ]
  },
  {
   "cell_type": "code",
   "execution_count": null,
   "metadata": {},
   "outputs": [],
   "source": [
    "for i in range(0,10,1):\n",
    "    print(i)"
   ]
  },
  {
   "cell_type": "code",
   "execution_count": null,
   "metadata": {},
   "outputs": [],
   "source": [
    "for j in xrange(10):\n",
    "    print(j)"
   ]
  },
  {
   "cell_type": "markdown",
   "metadata": {},
   "source": [
    "#### break Statement"
   ]
  },
  {
   "cell_type": "code",
   "execution_count": null,
   "metadata": {},
   "outputs": [],
   "source": [
    "for i in range(0,50,2):\n",
    "    print(i)\n",
    "    if i == 10:\n",
    "        break"
   ]
  },
  {
   "cell_type": "code",
   "execution_count": null,
   "metadata": {},
   "outputs": [],
   "source": [
    "for i in range(1,50,2):\n",
    "    print(i)\n",
    "    if i == 10:\n",
    "        break"
   ]
  },
  {
   "cell_type": "markdown",
   "metadata": {},
   "source": [
    "#### continue Statement"
   ]
  },
  {
   "cell_type": "code",
   "execution_count": null,
   "metadata": {},
   "outputs": [],
   "source": [
    "for i in range(20):\n",
    "    print(i)\n",
    "    if i == 10:\n",
    "        print('10 is my fav number')\n",
    "        continue\n",
    "    print(i+2)"
   ]
  },
  {
   "cell_type": "code",
   "execution_count": null,
   "metadata": {},
   "outputs": [],
   "source": [
    "for outter in range(10):\n",
    "    print('outter: ', outter)\n",
    "    for inner in range(10):\n",
    "        print('inner: ', inner)\n",
    "        if inner == 7:\n",
    "            break\n",
    "    if outter == 5:\n",
    "        break\n",
    "print('All loops are finished')\n",
    "\n",
    "    "
   ]
  },
  {
   "cell_type": "markdown",
   "metadata": {},
   "source": [
    "#### pass Statment"
   ]
  },
  {
   "cell_type": "code",
   "execution_count": null,
   "metadata": {},
   "outputs": [],
   "source": [
    "age = 12\n",
    "if age >= 18:\n",
    "    print(\"you may vote.\")\n",
    "else:\n",
    "    #print(\"You may not vote.\")\n",
    "    pass\n",
    "print('Thank you')\n"
   ]
  },
  {
   "cell_type": "code",
   "execution_count": null,
   "metadata": {},
   "outputs": [],
   "source": [
    "def calc():\n",
    "    pass\n",
    "\n",
    "myvar = calc()\n",
    "print(type(myvar))"
   ]
  },
  {
   "cell_type": "code",
   "execution_count": null,
   "metadata": {},
   "outputs": [],
   "source": [
    "def calc():\n",
    "    return '1.0'\n",
    "\n",
    "myvar = calc()\n",
    "print(type(myvar))"
   ]
  },
  {
   "cell_type": "code",
   "execution_count": null,
   "metadata": {},
   "outputs": [],
   "source": [
    "fruits = ['apple','orange','banana','pear','grapes','plum','cherry','strawberry']\n",
    "\n",
    "favfruit = raw_input(\"What is your favourite fruit to eat: \")\n",
    "\n",
    "for fruit in fruits:\n",
    "    if favfruit == fruit:\n",
    "        print(\"%s was found in my basket\" % favfruit)\n",
    "        break\n",
    "else:\n",
    "    print(\"Sorry. We don't like the same fruits.\")\n",
    "\n"
   ]
  },
  {
   "cell_type": "code",
   "execution_count": null,
   "metadata": {},
   "outputs": [],
   "source": [
    "fruits = ['apple','orange','banana','pear','grapes','plum','cherry','strawberry']\n",
    "\n",
    "\n",
    "for fruit in fruits:\n",
    "    print(fruit)\n"
   ]
  },
  {
   "cell_type": "code",
   "execution_count": null,
   "metadata": {},
   "outputs": [],
   "source": [
    "fruits = ['apple','orange','banana','pear','grapes','plum','cherry','strawberry']\n",
    "\n",
    "for i in range(len(fruits)):\n",
    "    print(fruits[i])"
   ]
  },
  {
   "cell_type": "code",
   "execution_count": null,
   "metadata": {},
   "outputs": [],
   "source": [
    "### Generators (yield)"
   ]
  },
  {
   "cell_type": "code",
   "execution_count": null,
   "metadata": {},
   "outputs": [],
   "source": [
    "def print10():\n",
    "    print(1)\n",
    "    print(2)\n",
    "    print(3)\n",
    "    print(4)\n",
    "    yield 1\n",
    "    print(5)\n",
    "    print(6)\n",
    "    print(7)\n",
    "    yield 2\n",
    "    print(8)\n",
    "    print(9)\n",
    "    print(10)\n",
    "\n",
    "for x in print10():\n",
    "    print('busstop %s' % x )"
   ]
  },
  {
   "cell_type": "code",
   "execution_count": null,
   "metadata": {},
   "outputs": [],
   "source": [
    "def print20():\n",
    "    print(11)\n",
    "    print(12)\n",
    "    print(13)\n",
    "    print(14)\n",
    "    yield 1\n",
    "    print(15)\n",
    "    print(16)\n",
    "    print(17)\n",
    "    yield 2\n",
    "    print(18)\n",
    "    print(19)\n",
    "    print(20)\n",
    "\n",
    "x = print20()\n"
   ]
  },
  {
   "cell_type": "code",
   "execution_count": null,
   "metadata": {},
   "outputs": [],
   "source": [
    "type(x)"
   ]
  },
  {
   "cell_type": "code",
   "execution_count": null,
   "metadata": {},
   "outputs": [],
   "source": [
    "x.next()"
   ]
  },
  {
   "cell_type": "code",
   "execution_count": null,
   "metadata": {},
   "outputs": [],
   "source": [
    "x"
   ]
  },
  {
   "cell_type": "code",
   "execution_count": null,
   "metadata": {},
   "outputs": [],
   "source": [
    "y = x.next()"
   ]
  },
  {
   "cell_type": "code",
   "execution_count": null,
   "metadata": {},
   "outputs": [],
   "source": [
    "y"
   ]
  },
  {
   "cell_type": "code",
   "execution_count": null,
   "metadata": {},
   "outputs": [],
   "source": [
    "x.next()"
   ]
  }
 ],
 "metadata": {
  "kernelspec": {
   "display_name": "Python 2",
   "language": "python",
   "name": "python2"
  },
  "language_info": {
   "codemirror_mode": {
    "name": "ipython",
    "version": 2
   },
   "file_extension": ".py",
   "mimetype": "text/x-python",
   "name": "python",
   "nbconvert_exporter": "python",
   "pygments_lexer": "ipython2",
   "version": "2.7.17"
  }
 },
 "nbformat": 4,
 "nbformat_minor": 2
}
